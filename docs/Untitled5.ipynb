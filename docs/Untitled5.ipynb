{
 "cells": [
  {
   "cell_type": "code",
   "execution_count": 1,
   "metadata": {},
   "outputs": [],
   "source": [
    "from datetime import timedelta\n",
    "import pandas as pd\n",
    "import requests as rqs\n",
    "import json\n",
    "import pymongo\n",
    "import datetime\n",
    "\n",
    "myclient = pymongo.MongoClient(f'mongodb://192.168.2.1:27017',username=\"hterra\",password=\"terrac0t@\", unicode_decode_error_handler='ignore')\n",
    "activitywatch_db = myclient[\"activitywatch\"]\n",
    "aw_watcher_window_db = myclient[\"activitywatch\"][\"aw-watcher-window\"]"
   ]
  },
  {
   "cell_type": "code",
   "execution_count": 4,
   "metadata": {},
   "outputs": [
    {
     "name": "stdout",
     "output_type": "stream",
     "text": [
      "2020-02-27 14:10:34.681153 localhost Actualizando db ...\n",
      "2020-02-27 14:10:35.485220 localhost Agragando nueva data ...\n",
      "2020-02-27 14:10:36.489061 localhost DESKTOP-RIEHMGE Actualizado!\n"
     ]
    }
   ],
   "source": [
    "ip = 'localhost'\n",
    "data = rqs.get(f'http://{ip}:5600/api/0/export').json()\n",
    "host = ''\n",
    "for key in data['buckets'].keys(): \n",
    "    if 'aw-watcher-window' in key:\n",
    "        host = key.replace('aw-watcher-window_','')\n",
    "        aw_window = data['buckets'][key]\n",
    "    if 'aw-watcher-afk' in key:\n",
    "        aw_afk = data['buckets'][key]\n",
    "events = [{\n",
    "    \"timestamp\": e[\"timestamp\"],\n",
    "    \"duration\": e[\"duration\"],\n",
    "    \"host\": host,\n",
    "    **e[\"data\"]\n",
    "} for e in aw_window['events']]\n",
    "print(str(datetime.datetime.today()),ip,\"Actualizando db ...\")\n",
    "aw_watcher_window_db.delete_many ({\"host\": host})\n",
    "print(str(datetime.datetime.today()),ip,\"Agragando nueva data ...\")\n",
    "aw_watcher_window_db.insert_many(events)\n",
    "print(str(datetime.datetime.today()),ip,host,\"Actualizado!\")\n"
   ]
  },
  {
   "cell_type": "code",
   "execution_count": null,
   "metadata": {},
   "outputs": [],
   "source": []
  }
 ],
 "metadata": {
  "kernelspec": {
   "display_name": "Python 3",
   "language": "python",
   "name": "python3"
  },
  "language_info": {
   "codemirror_mode": {
    "name": "ipython",
    "version": 3
   },
   "file_extension": ".py",
   "mimetype": "text/x-python",
   "name": "python",
   "nbconvert_exporter": "python",
   "pygments_lexer": "ipython3",
   "version": "3.7.4"
  }
 },
 "nbformat": 4,
 "nbformat_minor": 2
}
