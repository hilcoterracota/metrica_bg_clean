{
 "cells": [
  {
   "cell_type": "code",
   "execution_count": null,
   "metadata": {},
   "outputs": [
    {
     "name": "stdout",
     "output_type": "stream",
     "text": [
      "Analizando red...\n",
      "Analizando red...\n"
     ]
    }
   ],
   "source": [
    "import requests as rqst\n",
    "import subprocess\n",
    "import ipaddress\n",
    "from subprocess import Popen, PIPE\n",
    "import pandas as pd\n",
    "from datetime import date,timedelta\n",
    "import pymongo\n",
    "\n",
    "\n",
    "ip_online = []\n",
    "ip_net    = ipaddress.ip_network(u'192.168.1.0/24', strict=False)\n",
    "print(\"Analizando red...\")\n",
    "for ip in ip_net.hosts():\n",
    "    ip = str(ip)\n",
    "    toping = Popen(['ping', '-c', '1', '-W', '50', ip], stdout=PIPE)\n",
    "    output = toping.communicate()[0]\n",
    "    hostalive = toping.returncode\n",
    "    if hostalive == 0:\n",
    "        ip_online.append(ip)\n",
    "    if ip == \"192.168.1.50\":\n",
    "        break\n",
    "\n",
    "ip_net    = ipaddress.ip_network(u'192.168.2.0/24', strict=False)\n",
    "print(\"Analizando red...\")\n",
    "for ip in ip_net.hosts():\n",
    "    ip = str(ip)\n",
    "    toping = Popen(['ping', '-c', '1', '-W', '50', ip], stdout=PIPE)\n",
    "    output = toping.communicate()[0]\n",
    "    hostalive = toping.returncode\n",
    "    if hostalive == 0:\n",
    "        ip_online.append(ip)\n",
    "    if ip == \"192.168.2.50\":\n",
    "        break\n",
    "\n",
    "ip_net    = ipaddress.ip_network(u'192.168.3.0/22', strict=False)\n",
    "print(\"Analizando red...\")\n",
    "for ip in ip_net.hosts():\n",
    "    ip = str(ip)\n",
    "    toping = Popen(['ping', '-c', '1', '-W', '50', ip], stdout=PIPE)\n",
    "    output = toping.communicate()[0]\n",
    "    hostalive = toping.returncode\n",
    "    if hostalive == 0:\n",
    "        ip_online.append(ip)\n",
    "    if ip == \"192.168.3.10\":\n",
    "        break\n",
    "\n",
    "print(len(ip_online),\"host encontrados\")\n",
    "data_ip = []\n",
    "for ip in ip_online:\n",
    "    try:  \n",
    "        r = rqst.get(f'http://{ip}:5600/',verify=False, timeout=3)\n",
    "        if r.status_code == 200:\n",
    "            data_ip.append(ip)\n",
    "    except: \n",
    "        print(ip,\"ERROR: \")\n",
    "        \n",
    "data_ip\n"
   ]
  },
  {
   "cell_type": "code",
   "execution_count": 37,
   "metadata": {},
   "outputs": [
    {
     "name": "stdout",
     "output_type": "stream",
     "text": [
      "500\n",
      "500\n",
      "500\n",
      "500\n",
      "500\n",
      "500\n",
      "500\n",
      "500\n",
      "500\n",
      "500\n",
      "500\n",
      "500\n"
     ]
    }
   ],
   "source": [
    "data = []\n",
    "\n",
    "today1    = \"2019-15-01\"\n",
    "today2    = \"2020-15-01\"\n",
    "\n",
    "for ip in data_ip:\n",
    "    payload = \"{\\n    \\\"query\\\": [\\n        \\\"events  = flood(query_bucket(find_bucket('aw-watcher-afk_')));\\\",\\n        \\\"not_afk = flood(query_bucket(find_bucket('aw-watcher-afk_')));\\\",\\n        \\\"not_afk = filter_keyvals(not_afk, 'status', ['not-afk']);\\\",\\n        \\\"events  = filter_period_intersect(events, not_afk);\\\",\\n        \\\"title_events = sort_by_duration(merge_events_by_keys(events, ['app', 'title']));\\\",\\n        \\\"app_events   = sort_by_duration(merge_events_by_keys(title_events, ['app']));\\\",\\n        \\\"cat_events   = sort_by_duration(merge_events_by_keys(events, ['$category']));\\\",\\n        \\\"events = sort_by_timestamp(events);\\\",\\n        \\\"app_events  = limit_events(app_events, 100);\\\",\\n        \\\"title_events  = limit_events(title_events, 100);\\\",\\n        \\\"duration = sum_durations(events);\\\",\\n        \\\"RETURN  = {'app_events': app_events, 'title_events': title_events, 'cat_events': cat_events, 'duration': duration, 'active_events': not_afk};\\\"\\n    ],\\n    \\\"timeperiods\\\": [\\n        \\\"\"+today1+\"/\"+today2+\"\\\"\\n    ]\\n}\"\n",
    "    headers = {\n",
    "        'Content-Type': \"application/json\"\n",
    "    }\n",
    "    r = rqst.request(\"POST\", f'http://{ip}:5600/api/0/query/', data = payload, headers=headers)\n",
    "    print(r.status_code)\n",
    "    if r.status_code == 200:   \n",
    "        response = r.json()\n",
    "        prine(response)\n",
    "                "
   ]
  },
  {
   "cell_type": "code",
   "execution_count": null,
   "metadata": {},
   "outputs": [],
   "source": []
  }
 ],
 "metadata": {
  "kernelspec": {
   "display_name": "Python 3",
   "language": "python",
   "name": "python3"
  },
  "language_info": {
   "codemirror_mode": {
    "name": "ipython",
    "version": 3
   },
   "file_extension": ".py",
   "mimetype": "text/x-python",
   "name": "python",
   "nbconvert_exporter": "python",
   "pygments_lexer": "ipython3",
   "version": "3.7.4"
  }
 },
 "nbformat": 4,
 "nbformat_minor": 2
}
