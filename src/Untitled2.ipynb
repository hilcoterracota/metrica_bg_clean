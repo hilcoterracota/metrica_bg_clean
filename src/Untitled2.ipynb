{
 "cells": [
  {
   "cell_type": "code",
   "execution_count": null,
   "metadata": {},
   "outputs": [],
   "source": [
    "\n",
    "print(ip)\n",
    "                r = rqst.get(f'http://{ip}:5600/api/0/buckets/',verify=False, timeout=5)\n",
    "                keys = list(r.json().keys())\n",
    "                aw_watcher_afk = keys[0]\n",
    "                aw_watcher_window = keys[1]\n",
    "                payload = \"{\\n    \\\"query\\\": [\\n        \\\"events  = flood(query_bucket('\"+aw_watcher_window+\"'));\\\",\\n        \\\"not_afk = flood(query_bucket('\"+aw_watcher_afk+\"'));\\\",\\n        \\\"not_afk = filter_keyvals(not_afk, 'status', ['not-afk']);\\\",\\n        \\\"events  = filter_period_intersect(events, not_afk);\\\",\\n        \\\"title_events = sort_by_duration(merge_events_by_keys(events, ['app', 'title']));\\\",\\n        \\\"app_events   = sort_by_duration(merge_events_by_keys(title_events, ['app']));\\\",\\n        \\\"cat_events   = sort_by_duration(merge_events_by_keys(events, ['$category']));\\\",\\n        \\\"events = sort_by_timestamp(events);\\\",\\n        \\\"app_events  = limit_events(app_events, 100);\\\",\\n        \\\"title_events  = limit_events(title_events, 100);\\\",\\n        \\\"duration = sum_durations(events);\\\",\\n        \\\"RETURN  = {'app_events': app_events, 'title_events': title_events, 'cat_events': cat_events, 'duration': duration, 'active_events': not_afk};\\\"\\n    ],\\n    \\\"timeperiods\\\": [\\n        \\\"2019-12-23/\"+today2+\"\\\"\\n    ]\\n}\"\n",
    "                headers = {\n",
    "                    'Content-Type': \"application/json\"\n",
    "                }\n",
    "                r = rqst.request(\"POST\", f'http://{ip}:5600/api/0/query/', data = payload, headers=headers)"
   ]
  }
 ],
 "metadata": {
  "kernelspec": {
   "display_name": "Python 3",
   "language": "python",
   "name": "python3"
  },
  "language_info": {
   "codemirror_mode": {
    "name": "ipython",
    "version": 3
   },
   "file_extension": ".py",
   "mimetype": "text/x-python",
   "name": "python",
   "nbconvert_exporter": "python",
   "pygments_lexer": "ipython3",
   "version": "3.7.4"
  }
 },
 "nbformat": 4,
 "nbformat_minor": 2
}
