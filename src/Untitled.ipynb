{
 "cells": [
  {
   "cell_type": "code",
   "execution_count": 2,
   "metadata": {},
   "outputs": [],
   "source": [
    "import pandas as pd\n",
    "import requests as rqs\n",
    "import os\n",
    "import json\n",
    "import pymongo\n",
    "import datetime\n",
    "\n",
    "myclient = pymongo.MongoClient(f'mongodb://{os.getenv(\"MONGO_URL\",\"192.168.2.1\")}:27017',username=os.getenv(\"MONGO_USERNAME\",\"hterra\"),password=os.getenv(\"MONGO_PASSWORD\",\"terrac0t@\"), unicode_decode_error_handler='ignore')\n",
    "activitywatch_db = myclient[\"activitywatch\"]\n",
    "aw_watcher_window_db = myclient[\"activitywatch\"][\"aw-watcher-window\"]"
   ]
  },
  {
   "cell_type": "code",
   "execution_count": null,
   "metadata": {},
   "outputs": [
    {
     "name": "stdout",
     "output_type": "stream",
     "text": [
      "2020-03-10 15:17:27.045846 192.168.3.100 ERROR\n",
      "2020-03-10 15:17:30.761461 192.168.3.101 ERROR\n",
      "2020-03-10 15:17:48.022298 192.168.3.102 Actualizando db ...\n",
      "2020-03-10 15:17:48.061285 192.168.3.102 Agragando nueva data ...\n",
      "2020-03-10 15:17:48.476935 192.168.3.102 DESKTOP-RC8DUL3 Actualizado!\n",
      "2020-03-10 15:18:09.490620 192.168.3.103 ERROR\n",
      "2020-03-10 15:18:30.496542 192.168.3.104 ERROR\n",
      "2020-03-10 15:18:51.501697 192.168.3.105 ERROR\n",
      "2020-03-10 15:19:12.525805 192.168.3.106 ERROR\n",
      "2020-03-10 15:19:33.538083 192.168.3.107 ERROR\n",
      "2020-03-10 15:19:54.544464 192.168.3.108 ERROR\n",
      "2020-03-10 15:20:15.551111 192.168.3.109 ERROR\n",
      "2020-03-10 15:20:36.560979 192.168.3.110 ERROR\n",
      "2020-03-10 15:20:57.568554 192.168.3.111 ERROR\n",
      "2020-03-10 15:21:57.682472 192.168.3.112 Actualizando db ...\n",
      "2020-03-10 15:21:57.696396 192.168.3.112 Agragando nueva data ...\n",
      "2020-03-10 15:21:59.502216 192.168.3.112 DESKTOP-DVNAFK6 Actualizado!\n",
      "2020-03-10 15:22:20.509204 192.168.3.113 ERROR\n",
      "2020-03-10 15:22:41.520638 192.168.3.114 ERROR\n",
      "2020-03-10 15:23:17.411466 192.168.3.115 Actualizando db ...\n",
      "2020-03-10 15:23:17.462904 192.168.3.115 Agragando nueva data ...\n",
      "2020-03-10 15:23:18.748836 192.168.3.115 DESKTOP-7FSFKKH Actualizado!\n",
      "2020-03-10 15:23:39.756491 192.168.3.116 ERROR\n",
      "2020-03-10 15:24:00.764764 192.168.3.117 ERROR\n",
      "2020-03-10 15:24:21.772307 192.168.3.118 ERROR\n",
      "2020-03-10 15:24:42.782096 192.168.3.119 ERROR\n"
     ]
    }
   ],
   "source": [
    "\n",
    "\n",
    "while True:\n",
    "    for value in range(100,200):\n",
    "        ip = f'{os.getenv(\"MONGO_IP3\",\"192.168.3\")}.{value}'\n",
    "        try:  \n",
    "            data = rqs.get(f'http://{ip}:5600/api/0/export').json()\n",
    "            host = ''\n",
    "            for key in data['buckets'].keys(): \n",
    "                if 'aw-watcher-window' in key:\n",
    "                    host = key.replace('aw-watcher-window_','')\n",
    "                    aw_window = data['buckets'][key]\n",
    "                if 'aw-watcher-afk' in key:\n",
    "                    aw_afk = data['buckets'][key]\n",
    "            events = [{\n",
    "                \"timestamp\": pd.to_datetime(e['timestamp'], infer_datetime_format=True),\n",
    "                \"duration\": e['duration'],\n",
    "                \"host\": host.upper(),\n",
    "                **e[\"data\"]\n",
    "            } for e in aw_window['events']]\n",
    "            print(str(datetime.datetime.today()),ip,\"Actualizando db ...\")\n",
    "            aw_watcher_window_db.delete_many ({\"host\": host})\n",
    "            print(str(datetime.datetime.today()),ip,\"Agragando nueva data ...\")\n",
    "            aw_watcher_window_db.insert_many(events)\n",
    "            print(str(datetime.datetime.today()),ip,host,\"Actualizado!\")\n",
    "        except:\n",
    "            print(str(datetime.datetime.today()),ip,\"ERROR\")"
   ]
  },
  {
   "cell_type": "code",
   "execution_count": null,
   "metadata": {},
   "outputs": [],
   "source": []
  }
 ],
 "metadata": {
  "kernelspec": {
   "display_name": "Python 3",
   "language": "python",
   "name": "python3"
  },
  "language_info": {
   "codemirror_mode": {
    "name": "ipython",
    "version": 3
   },
   "file_extension": ".py",
   "mimetype": "text/x-python",
   "name": "python",
   "nbconvert_exporter": "python",
   "pygments_lexer": "ipython3",
   "version": "3.7.4"
  }
 },
 "nbformat": 4,
 "nbformat_minor": 2
}
