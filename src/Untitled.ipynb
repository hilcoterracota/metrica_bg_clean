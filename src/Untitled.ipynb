{
 "cells": [
  {
   "cell_type": "code",
   "execution_count": 1,
   "metadata": {},
   "outputs": [
    {
     "ename": "KeyError",
     "evalue": "'MONGO_URL'",
     "output_type": "error",
     "traceback": [
      "\u001b[1;31m--------------------------------------------------\u001b[0m",
      "\u001b[1;31mKeyError\u001b[0m         Traceback (most recent call last)",
      "\u001b[1;32m<ipython-input-1-02a9a80831a7>\u001b[0m in \u001b[0;36m<module>\u001b[1;34m\u001b[0m\n\u001b[0;32m      6\u001b[0m \u001b[1;32mimport\u001b[0m \u001b[0mdatetime\u001b[0m\u001b[1;33m\u001b[0m\u001b[1;33m\u001b[0m\u001b[0m\n\u001b[0;32m      7\u001b[0m \u001b[1;33m\u001b[0m\u001b[0m\n\u001b[1;32m----> 8\u001b[1;33m \u001b[0mmyclient\u001b[0m \u001b[1;33m=\u001b[0m \u001b[0mpymongo\u001b[0m\u001b[1;33m.\u001b[0m\u001b[0mMongoClient\u001b[0m\u001b[1;33m(\u001b[0m\u001b[1;34mf'mongodb://{os.environ[\"MONGO_URL\"]}:27017'\u001b[0m\u001b[1;33m,\u001b[0m\u001b[0musername\u001b[0m\u001b[1;33m=\u001b[0m\u001b[0mos\u001b[0m\u001b[1;33m.\u001b[0m\u001b[0menviron\u001b[0m\u001b[1;33m[\u001b[0m\u001b[1;34m\"MONGO_USERNAME\"\u001b[0m\u001b[1;33m]\u001b[0m\u001b[1;33m,\u001b[0m\u001b[0mpassword\u001b[0m\u001b[1;33m=\u001b[0m\u001b[0mos\u001b[0m\u001b[1;33m.\u001b[0m\u001b[0menviron\u001b[0m\u001b[1;33m[\u001b[0m\u001b[1;34m\"MONGO_PASSWORD\"\u001b[0m\u001b[1;33m]\u001b[0m\u001b[1;33m,\u001b[0m \u001b[0municode_decode_error_handler\u001b[0m\u001b[1;33m=\u001b[0m\u001b[1;34m'ignore'\u001b[0m\u001b[1;33m)\u001b[0m\u001b[1;33m\u001b[0m\u001b[1;33m\u001b[0m\u001b[0m\n\u001b[0m\u001b[0;32m      9\u001b[0m \u001b[0mactivitywatch_db\u001b[0m \u001b[1;33m=\u001b[0m \u001b[0mmyclient\u001b[0m\u001b[1;33m[\u001b[0m\u001b[1;34m\"activitywatch\"\u001b[0m\u001b[1;33m]\u001b[0m\u001b[1;33m\u001b[0m\u001b[1;33m\u001b[0m\u001b[0m\n\u001b[0;32m     10\u001b[0m \u001b[0maw_watcher_window_db\u001b[0m \u001b[1;33m=\u001b[0m \u001b[0mmyclient\u001b[0m\u001b[1;33m[\u001b[0m\u001b[1;34m\"activitywatch\"\u001b[0m\u001b[1;33m]\u001b[0m\u001b[1;33m[\u001b[0m\u001b[1;34m\"aw-watcher-window\"\u001b[0m\u001b[1;33m]\u001b[0m\u001b[1;33m\u001b[0m\u001b[1;33m\u001b[0m\u001b[0m\n",
      "\u001b[1;32m~\\AppData\\Local\\Continuum\\anaconda3\\lib\\os.py\u001b[0m in \u001b[0;36m__getitem__\u001b[1;34m(self, key)\u001b[0m\n\u001b[0;32m    676\u001b[0m         \u001b[1;32mexcept\u001b[0m \u001b[0mKeyError\u001b[0m\u001b[1;33m:\u001b[0m\u001b[1;33m\u001b[0m\u001b[1;33m\u001b[0m\u001b[0m\n\u001b[0;32m    677\u001b[0m             \u001b[1;31m# raise KeyError with the original key value\u001b[0m\u001b[1;33m\u001b[0m\u001b[1;33m\u001b[0m\u001b[1;33m\u001b[0m\u001b[0m\n\u001b[1;32m--> 678\u001b[1;33m             \u001b[1;32mraise\u001b[0m \u001b[0mKeyError\u001b[0m\u001b[1;33m(\u001b[0m\u001b[0mkey\u001b[0m\u001b[1;33m)\u001b[0m \u001b[1;32mfrom\u001b[0m \u001b[1;32mNone\u001b[0m\u001b[1;33m\u001b[0m\u001b[1;33m\u001b[0m\u001b[0m\n\u001b[0m\u001b[0;32m    679\u001b[0m         \u001b[1;32mreturn\u001b[0m \u001b[0mself\u001b[0m\u001b[1;33m.\u001b[0m\u001b[0mdecodevalue\u001b[0m\u001b[1;33m(\u001b[0m\u001b[0mvalue\u001b[0m\u001b[1;33m)\u001b[0m\u001b[1;33m\u001b[0m\u001b[1;33m\u001b[0m\u001b[0m\n\u001b[0;32m    680\u001b[0m \u001b[1;33m\u001b[0m\u001b[0m\n",
      "\u001b[1;31mKeyError\u001b[0m: 'MONGO_URL'"
     ]
    }
   ],
   "source": [
    "import pandas as pd\n",
    "import requests as rqs\n",
    "import os\n",
    "import json\n",
    "import pymongo\n",
    "import datetime\n",
    "\n",
    "myclient = pymongo.MongoClient(f'mongodb://{os.environ[\"MONGO_URL\"]}:27017',username=os.environ[\"MONGO_USERNAME\"],password=os.environ[\"MONGO_PASSWORD\"], unicode_decode_error_handler='ignore')\n",
    "activitywatch_db = myclient[\"activitywatch\"]\n",
    "aw_watcher_window_db = myclient[\"activitywatch\"][\"aw-watcher-window\"]\n",
    "\n",
    "while True:\n",
    "    for value in range(100,200):\n",
    "        ip = f'{os.environ[\"MONGO_IP3\"]}.{value}'\n",
    "        try:  \n",
    "            data = rqs.get(f'http://{ip}:5600/api/0/export').json()\n",
    "            host = ''\n",
    "            for key in data['buckets'].keys(): \n",
    "                if 'aw-watcher-window' in key:\n",
    "                    host = key.replace('aw-watcher-window_','')\n",
    "                    aw_window = data['buckets'][key]\n",
    "                if 'aw-watcher-afk' in key:\n",
    "                    aw_afk = data['buckets'][key]\n",
    "            events = [{\n",
    "                \"timestamp\": datetime.datetime.strptime(e[\"timestamp\"], \"%Y-%m-%d %H:%M:%S,%f\").timetuple(),\n",
    "                \"duration\": e[\"duration\"],\n",
    "                \"host\": host.upper(),\n",
    "                **e[\"data\"]\n",
    "            } for e in aw_window['events'] if \".exe\" in e[\"timestamp\"]]\n",
    "            print(str(datetime.datetime.today()),ip,\"Actualizando db ...\")\n",
    "            aw_watcher_window_db.delete_many ({\"host\": host})\n",
    "            print(str(datetime.datetime.today()),ip,\"Agragando nueva data ...\")\n",
    "            aw_watcher_window_db.insert_many(events)\n",
    "            print(str(datetime.datetime.today()),ip,host,\"Actualizado!\")\n",
    "        except:\n",
    "            print(str(datetime.datetime.today()),ip,\"ERROR\")"
   ]
  },
  {
   "cell_type": "code",
   "execution_count": null,
   "metadata": {},
   "outputs": [],
   "source": []
  }
 ],
 "metadata": {
  "kernelspec": {
   "display_name": "Python 3",
   "language": "python",
   "name": "python3"
  },
  "language_info": {
   "codemirror_mode": {
    "name": "ipython",
    "version": 3
   },
   "file_extension": ".py",
   "mimetype": "text/x-python",
   "name": "python",
   "nbconvert_exporter": "python",
   "pygments_lexer": "ipython3",
   "version": "3.7.4"
  }
 },
 "nbformat": 4,
 "nbformat_minor": 2
}
